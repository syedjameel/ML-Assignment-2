{
 "cells": [
  {
   "cell_type": "markdown",
   "source": [
    "# Machine Learning\n",
    "## Assignment - 2\n",
    "written by : Jameel Ahmed Syed\n",
    "email : j.syed@innopolis.university"
   ],
   "metadata": {
    "collapsed": false,
    "pycharm": {
     "name": "#%% md\n"
    }
   }
  },
  {
   "cell_type": "markdown",
   "source": [
    "# Task - 2\n",
    "\n",
    "<hr>\n",
    "\n",
    "Contents\n",
    "(i) Data Reading, Exploration and preprocessing;\n",
    "   1. Import All the Necessary Libraries\n",
    "   2. Custom class for MinMax scaling\n",
    "   3. Downloading and transforming the train and test datasets\n",
    "   4. Split the data to train (70%), validation (10%) and test (20%)\n",
    "   5. Class labels\n",
    "   6. Display the preprocessed image from the dataloader\n",
    "   7. Hyperparameters initialization\n",
    "   8. Display the grid of images from the dataloader\n",
    "\n",
    "(ii) Machine learning or Deep learning model defining, training and hyperparameters turning and\n",
    "(iii) Model performance evaluation\n",
    "   1. Baseline Neural Network class\n",
    "   2. Simple Neural Network Training and Testing Loop Functions\n",
    "   4. Loss and Optimizers\n",
    "   5. Training the model and Evaluation metrics\n",
    "\n",
    "(iv) Conclusion and possible improvements"
   ],
   "metadata": {
    "collapsed": false,
    "pycharm": {
     "name": "#%% md\n"
    }
   }
  },
  {
   "cell_type": "markdown",
   "source": [
    "# Task 2.1"
   ],
   "metadata": {
    "collapsed": false,
    "pycharm": {
     "name": "#%% md\n"
    }
   }
  },
  {
   "cell_type": "markdown",
   "source": [
    "# (i) Data Reading, Exploration and preprocessing;"
   ],
   "metadata": {
    "collapsed": false,
    "pycharm": {
     "name": "#%% md\n"
    }
   }
  },
  {
   "cell_type": "markdown",
   "source": [
    "### 1. Import All the Necessary Libraries"
   ],
   "metadata": {
    "collapsed": false,
    "pycharm": {
     "name": "#%% md\n"
    }
   }
  },
  {
   "cell_type": "code",
   "execution_count": 18,
   "metadata": {
    "collapsed": true,
    "pycharm": {
     "name": "#%%\n"
    }
   },
   "outputs": [],
   "source": [
    "import matplotlib.pyplot as plt\n",
    "from sklearn.metrics import r2_score, mean_squared_error\n",
    "from sklearn.model_selection import train_test_split, cross_val_score\n",
    "from sklearn import metrics\n",
    "import seaborn as sns\n",
    "import torch\n",
    "import torchvision\n",
    "import torch.nn as nn\n",
    "from torch.utils.data import Dataset, DataLoader\n",
    "import torchvision.transforms as transforms\n",
    "\n",
    "from sklearn.preprocessing import StandardScaler, RobustScaler, MinMaxScaler, MultiLabelBinarizer\n",
    "from sklearn.metrics import precision_recall_fscore_support, recall_score, precision_score, accuracy_score\n",
    "from sklearn.metrics import classification_report\n",
    "from torch.utils.data import random_split\n",
    "import numpy as np\n",
    "import pandas as pd\n",
    "import cv2\n",
    "from torchvision import models\n",
    "from torchsummary import summary\n",
    "\n",
    "from torch.utils.tensorboard import SummaryWriter"
   ]
  },
  {
   "cell_type": "markdown",
   "source": [
    "### 2. Custom class for MinMax scaling"
   ],
   "metadata": {
    "collapsed": false,
    "pycharm": {
     "name": "#%% md\n"
    }
   }
  },
  {
   "cell_type": "code",
   "execution_count": 3,
   "outputs": [],
   "source": [
    "class CustomMinMaxScaler:\n",
    "    \"\"\"\n",
    "    This is a class for Custom MinMax Scaling for the images.\n",
    "    It is to be used as a transform\n",
    "    Parameters:\n",
    "        sample: The image.\n",
    "    \"\"\"\n",
    "    def __init__(self):\n",
    "        self.scaler = MinMaxScaler()\n",
    "\n",
    "    def __call__(self, sample):\n",
    "        image = sample\n",
    "        #print(\"THis is the image\",image.shape)\n",
    "        temp = image.reshape(-1, 3)\n",
    "        scaled = self.scaler.fit_transform(temp)\n",
    "        transformed = torch.from_numpy(scaled.reshape(image.shape).astype(np.float32))\n",
    "        #print(\"Transformed image\", transformed.shape)\n",
    "        return transformed"
   ],
   "metadata": {
    "collapsed": false,
    "pycharm": {
     "name": "#%%\n"
    }
   }
  },
  {
   "cell_type": "markdown",
   "source": [
    "### 3. Downloading and transforming the train and test datasets"
   ],
   "metadata": {
    "collapsed": false,
    "pycharm": {
     "name": "#%% md\n"
    }
   }
  },
  {
   "cell_type": "code",
   "execution_count": 128,
   "outputs": [
    {
     "name": "stdout",
     "output_type": "stream",
     "text": [
      "Downloading https://sid.erda.dk/public/archives/daaeac0d7ce1152aea9b61d9f1e19370/GTSRB-Training_fixed.zip to data/gtsrb/GTSRB-Training_fixed.zip\n"
     ]
    },
    {
     "data": {
      "text/plain": "  0%|          | 0/187490228 [00:00<?, ?it/s]",
      "application/vnd.jupyter.widget-view+json": {
       "version_major": 2,
       "version_minor": 0,
       "model_id": "41bdced48f2f45f3bbd3460361941239"
      },
      "application/json": {
       "n": 0,
       "total": 187490228,
       "elapsed": 0.01591181755065918,
       "ncols": null,
       "nrows": null,
       "prefix": "",
       "ascii": false,
       "unit": "it",
       "unit_scale": false,
       "rate": null,
       "bar_format": null,
       "postfix": null,
       "unit_divisor": 1000,
       "initial": 0,
       "colour": null
      }
     },
     "metadata": {},
     "output_type": "display_data"
    },
    {
     "ename": "KeyboardInterrupt",
     "evalue": "",
     "output_type": "error",
     "traceback": [
      "\u001B[0;31m---------------------------------------------------------------------------\u001B[0m",
      "\u001B[0;31mKeyboardInterrupt\u001B[0m                         Traceback (most recent call last)",
      "Input \u001B[0;32mIn [128]\u001B[0m, in \u001B[0;36m<cell line: 6>\u001B[0;34m()\u001B[0m\n\u001B[1;32m      1\u001B[0m transform \u001B[38;5;241m=\u001B[39m transforms\u001B[38;5;241m.\u001B[39mCompose([\n\u001B[1;32m      2\u001B[0m     transforms\u001B[38;5;241m.\u001B[39mToTensor(),\n\u001B[1;32m      3\u001B[0m     transforms\u001B[38;5;241m.\u001B[39mResize((\u001B[38;5;241m32\u001B[39m, \u001B[38;5;241m32\u001B[39m)),\n\u001B[1;32m      4\u001B[0m     CustomMinMaxScaler()])\n\u001B[0;32m----> 6\u001B[0m train_dataset \u001B[38;5;241m=\u001B[39m \u001B[43mtorchvision\u001B[49m\u001B[38;5;241;43m.\u001B[39;49m\u001B[43mdatasets\u001B[49m\u001B[38;5;241;43m.\u001B[39;49m\u001B[43mGTSRB\u001B[49m\u001B[43m(\u001B[49m\u001B[38;5;124;43m'\u001B[39;49m\u001B[38;5;124;43m./data\u001B[39;49m\u001B[38;5;124;43m'\u001B[39;49m\u001B[43m,\u001B[49m\n\u001B[1;32m      7\u001B[0m \u001B[43m                                         \u001B[49m\u001B[43mtransform\u001B[49m\u001B[38;5;241;43m=\u001B[39;49m\u001B[43mtransform\u001B[49m\u001B[43m,\u001B[49m\n\u001B[1;32m      8\u001B[0m \u001B[43m                                         \u001B[49m\u001B[43mdownload\u001B[49m\u001B[38;5;241;43m=\u001B[39;49m\u001B[38;5;28;43;01mTrue\u001B[39;49;00m\u001B[43m)\u001B[49m\n\u001B[1;32m      9\u001B[0m test_dataset \u001B[38;5;241m=\u001B[39m torchvision\u001B[38;5;241m.\u001B[39mdatasets\u001B[38;5;241m.\u001B[39mGTSRB(\u001B[38;5;124m'\u001B[39m\u001B[38;5;124m./data\u001B[39m\u001B[38;5;124m'\u001B[39m,\n\u001B[1;32m     10\u001B[0m                                         split\u001B[38;5;241m=\u001B[39m\u001B[38;5;124m'\u001B[39m\u001B[38;5;124mtest\u001B[39m\u001B[38;5;124m'\u001B[39m,\n\u001B[1;32m     11\u001B[0m                                         transform\u001B[38;5;241m=\u001B[39mtransform,\n\u001B[1;32m     12\u001B[0m                                         download\u001B[38;5;241m=\u001B[39m\u001B[38;5;28;01mTrue\u001B[39;00m)\n",
      "File \u001B[0;32m~/.local/lib/python3.10/site-packages/torchvision/datasets/gtsrb.py:44\u001B[0m, in \u001B[0;36mGTSRB.__init__\u001B[0;34m(self, root, split, transform, target_transform, download)\u001B[0m\n\u001B[1;32m     39\u001B[0m \u001B[38;5;28mself\u001B[39m\u001B[38;5;241m.\u001B[39m_target_folder \u001B[38;5;241m=\u001B[39m (\n\u001B[1;32m     40\u001B[0m     \u001B[38;5;28mself\u001B[39m\u001B[38;5;241m.\u001B[39m_base_folder \u001B[38;5;241m/\u001B[39m \u001B[38;5;124m\"\u001B[39m\u001B[38;5;124mGTSRB\u001B[39m\u001B[38;5;124m\"\u001B[39m \u001B[38;5;241m/\u001B[39m (\u001B[38;5;124m\"\u001B[39m\u001B[38;5;124mTraining\u001B[39m\u001B[38;5;124m\"\u001B[39m \u001B[38;5;28;01mif\u001B[39;00m \u001B[38;5;28mself\u001B[39m\u001B[38;5;241m.\u001B[39m_split \u001B[38;5;241m==\u001B[39m \u001B[38;5;124m\"\u001B[39m\u001B[38;5;124mtrain\u001B[39m\u001B[38;5;124m\"\u001B[39m \u001B[38;5;28;01melse\u001B[39;00m \u001B[38;5;124m\"\u001B[39m\u001B[38;5;124mFinal_Test/Images\u001B[39m\u001B[38;5;124m\"\u001B[39m)\n\u001B[1;32m     41\u001B[0m )\n\u001B[1;32m     43\u001B[0m \u001B[38;5;28;01mif\u001B[39;00m download:\n\u001B[0;32m---> 44\u001B[0m     \u001B[38;5;28;43mself\u001B[39;49m\u001B[38;5;241;43m.\u001B[39;49m\u001B[43mdownload\u001B[49m\u001B[43m(\u001B[49m\u001B[43m)\u001B[49m\n\u001B[1;32m     46\u001B[0m \u001B[38;5;28;01mif\u001B[39;00m \u001B[38;5;129;01mnot\u001B[39;00m \u001B[38;5;28mself\u001B[39m\u001B[38;5;241m.\u001B[39m_check_exists():\n\u001B[1;32m     47\u001B[0m     \u001B[38;5;28;01mraise\u001B[39;00m \u001B[38;5;167;01mRuntimeError\u001B[39;00m(\u001B[38;5;124m\"\u001B[39m\u001B[38;5;124mDataset not found. You can use download=True to download it\u001B[39m\u001B[38;5;124m\"\u001B[39m)\n",
      "File \u001B[0;32m~/.local/lib/python3.10/site-packages/torchvision/datasets/gtsrb.py:88\u001B[0m, in \u001B[0;36mGTSRB.download\u001B[0;34m(self)\u001B[0m\n\u001B[1;32m     85\u001B[0m base_url \u001B[38;5;241m=\u001B[39m \u001B[38;5;124m\"\u001B[39m\u001B[38;5;124mhttps://sid.erda.dk/public/archives/daaeac0d7ce1152aea9b61d9f1e19370/\u001B[39m\u001B[38;5;124m\"\u001B[39m\n\u001B[1;32m     87\u001B[0m \u001B[38;5;28;01mif\u001B[39;00m \u001B[38;5;28mself\u001B[39m\u001B[38;5;241m.\u001B[39m_split \u001B[38;5;241m==\u001B[39m \u001B[38;5;124m\"\u001B[39m\u001B[38;5;124mtrain\u001B[39m\u001B[38;5;124m\"\u001B[39m:\n\u001B[0;32m---> 88\u001B[0m     \u001B[43mdownload_and_extract_archive\u001B[49m\u001B[43m(\u001B[49m\n\u001B[1;32m     89\u001B[0m \u001B[43m        \u001B[49m\u001B[38;5;124;43mf\u001B[39;49m\u001B[38;5;124;43m\"\u001B[39;49m\u001B[38;5;132;43;01m{\u001B[39;49;00m\u001B[43mbase_url\u001B[49m\u001B[38;5;132;43;01m}\u001B[39;49;00m\u001B[38;5;124;43mGTSRB-Training_fixed.zip\u001B[39;49m\u001B[38;5;124;43m\"\u001B[39;49m\u001B[43m,\u001B[49m\n\u001B[1;32m     90\u001B[0m \u001B[43m        \u001B[49m\u001B[43mdownload_root\u001B[49m\u001B[38;5;241;43m=\u001B[39;49m\u001B[38;5;28;43mstr\u001B[39;49m\u001B[43m(\u001B[49m\u001B[38;5;28;43mself\u001B[39;49m\u001B[38;5;241;43m.\u001B[39;49m\u001B[43m_base_folder\u001B[49m\u001B[43m)\u001B[49m\u001B[43m,\u001B[49m\n\u001B[1;32m     91\u001B[0m \u001B[43m        \u001B[49m\u001B[43mmd5\u001B[49m\u001B[38;5;241;43m=\u001B[39;49m\u001B[38;5;124;43m\"\u001B[39;49m\u001B[38;5;124;43m513f3c79a4c5141765e10e952eaa2478\u001B[39;49m\u001B[38;5;124;43m\"\u001B[39;49m\u001B[43m,\u001B[49m\n\u001B[1;32m     92\u001B[0m \u001B[43m    \u001B[49m\u001B[43m)\u001B[49m\n\u001B[1;32m     93\u001B[0m \u001B[38;5;28;01melse\u001B[39;00m:\n\u001B[1;32m     94\u001B[0m     download_and_extract_archive(\n\u001B[1;32m     95\u001B[0m         \u001B[38;5;124mf\u001B[39m\u001B[38;5;124m\"\u001B[39m\u001B[38;5;132;01m{\u001B[39;00mbase_url\u001B[38;5;132;01m}\u001B[39;00m\u001B[38;5;124mGTSRB_Final_Test_Images.zip\u001B[39m\u001B[38;5;124m\"\u001B[39m,\n\u001B[1;32m     96\u001B[0m         download_root\u001B[38;5;241m=\u001B[39m\u001B[38;5;28mstr\u001B[39m(\u001B[38;5;28mself\u001B[39m\u001B[38;5;241m.\u001B[39m_base_folder),\n\u001B[1;32m     97\u001B[0m         md5\u001B[38;5;241m=\u001B[39m\u001B[38;5;124m\"\u001B[39m\u001B[38;5;124mc7e4e6327067d32654124b0fe9e82185\u001B[39m\u001B[38;5;124m\"\u001B[39m,\n\u001B[1;32m     98\u001B[0m     )\n",
      "File \u001B[0;32m~/.local/lib/python3.10/site-packages/torchvision/datasets/utils.py:447\u001B[0m, in \u001B[0;36mdownload_and_extract_archive\u001B[0;34m(url, download_root, extract_root, filename, md5, remove_finished)\u001B[0m\n\u001B[1;32m    444\u001B[0m \u001B[38;5;28;01mif\u001B[39;00m \u001B[38;5;129;01mnot\u001B[39;00m filename:\n\u001B[1;32m    445\u001B[0m     filename \u001B[38;5;241m=\u001B[39m os\u001B[38;5;241m.\u001B[39mpath\u001B[38;5;241m.\u001B[39mbasename(url)\n\u001B[0;32m--> 447\u001B[0m \u001B[43mdownload_url\u001B[49m\u001B[43m(\u001B[49m\u001B[43murl\u001B[49m\u001B[43m,\u001B[49m\u001B[43m \u001B[49m\u001B[43mdownload_root\u001B[49m\u001B[43m,\u001B[49m\u001B[43m \u001B[49m\u001B[43mfilename\u001B[49m\u001B[43m,\u001B[49m\u001B[43m \u001B[49m\u001B[43mmd5\u001B[49m\u001B[43m)\u001B[49m\n\u001B[1;32m    449\u001B[0m archive \u001B[38;5;241m=\u001B[39m os\u001B[38;5;241m.\u001B[39mpath\u001B[38;5;241m.\u001B[39mjoin(download_root, filename)\n\u001B[1;32m    450\u001B[0m \u001B[38;5;28mprint\u001B[39m(\u001B[38;5;124mf\u001B[39m\u001B[38;5;124m\"\u001B[39m\u001B[38;5;124mExtracting \u001B[39m\u001B[38;5;132;01m{\u001B[39;00marchive\u001B[38;5;132;01m}\u001B[39;00m\u001B[38;5;124m to \u001B[39m\u001B[38;5;132;01m{\u001B[39;00mextract_root\u001B[38;5;132;01m}\u001B[39;00m\u001B[38;5;124m\"\u001B[39m)\n",
      "File \u001B[0;32m~/.local/lib/python3.10/site-packages/torchvision/datasets/utils.py:157\u001B[0m, in \u001B[0;36mdownload_url\u001B[0;34m(url, root, filename, md5, max_redirect_hops)\u001B[0m\n\u001B[1;32m    155\u001B[0m \u001B[38;5;28;01mtry\u001B[39;00m:\n\u001B[1;32m    156\u001B[0m     \u001B[38;5;28mprint\u001B[39m(\u001B[38;5;124m\"\u001B[39m\u001B[38;5;124mDownloading \u001B[39m\u001B[38;5;124m\"\u001B[39m \u001B[38;5;241m+\u001B[39m url \u001B[38;5;241m+\u001B[39m \u001B[38;5;124m\"\u001B[39m\u001B[38;5;124m to \u001B[39m\u001B[38;5;124m\"\u001B[39m \u001B[38;5;241m+\u001B[39m fpath)\n\u001B[0;32m--> 157\u001B[0m     \u001B[43m_urlretrieve\u001B[49m\u001B[43m(\u001B[49m\u001B[43murl\u001B[49m\u001B[43m,\u001B[49m\u001B[43m \u001B[49m\u001B[43mfpath\u001B[49m\u001B[43m)\u001B[49m\n\u001B[1;32m    158\u001B[0m \u001B[38;5;28;01mexcept\u001B[39;00m (urllib\u001B[38;5;241m.\u001B[39merror\u001B[38;5;241m.\u001B[39mURLError, \u001B[38;5;167;01mOSError\u001B[39;00m) \u001B[38;5;28;01mas\u001B[39;00m e:  \u001B[38;5;66;03m# type: ignore[attr-defined]\u001B[39;00m\n\u001B[1;32m    159\u001B[0m     \u001B[38;5;28;01mif\u001B[39;00m url[:\u001B[38;5;241m5\u001B[39m] \u001B[38;5;241m==\u001B[39m \u001B[38;5;124m\"\u001B[39m\u001B[38;5;124mhttps\u001B[39m\u001B[38;5;124m\"\u001B[39m:\n",
      "File \u001B[0;32m~/.local/lib/python3.10/site-packages/torchvision/datasets/utils.py:48\u001B[0m, in \u001B[0;36m_urlretrieve\u001B[0;34m(url, filename, chunk_size)\u001B[0m\n\u001B[1;32m     46\u001B[0m \u001B[38;5;28;01mdef\u001B[39;00m \u001B[38;5;21m_urlretrieve\u001B[39m(url: \u001B[38;5;28mstr\u001B[39m, filename: \u001B[38;5;28mstr\u001B[39m, chunk_size: \u001B[38;5;28mint\u001B[39m \u001B[38;5;241m=\u001B[39m \u001B[38;5;241m1024\u001B[39m \u001B[38;5;241m*\u001B[39m \u001B[38;5;241m32\u001B[39m) \u001B[38;5;241m-\u001B[39m\u001B[38;5;241m>\u001B[39m \u001B[38;5;28;01mNone\u001B[39;00m:\n\u001B[1;32m     47\u001B[0m     \u001B[38;5;28;01mwith\u001B[39;00m urllib\u001B[38;5;241m.\u001B[39mrequest\u001B[38;5;241m.\u001B[39murlopen(urllib\u001B[38;5;241m.\u001B[39mrequest\u001B[38;5;241m.\u001B[39mRequest(url, headers\u001B[38;5;241m=\u001B[39m{\u001B[38;5;124m\"\u001B[39m\u001B[38;5;124mUser-Agent\u001B[39m\u001B[38;5;124m\"\u001B[39m: USER_AGENT})) \u001B[38;5;28;01mas\u001B[39;00m response:\n\u001B[0;32m---> 48\u001B[0m         \u001B[43m_save_response_content\u001B[49m\u001B[43m(\u001B[49m\u001B[38;5;28;43miter\u001B[39;49m\u001B[43m(\u001B[49m\u001B[38;5;28;43;01mlambda\u001B[39;49;00m\u001B[43m:\u001B[49m\u001B[43m \u001B[49m\u001B[43mresponse\u001B[49m\u001B[38;5;241;43m.\u001B[39;49m\u001B[43mread\u001B[49m\u001B[43m(\u001B[49m\u001B[43mchunk_size\u001B[49m\u001B[43m)\u001B[49m\u001B[43m,\u001B[49m\u001B[43m \u001B[49m\u001B[38;5;124;43mb\u001B[39;49m\u001B[38;5;124;43m\"\u001B[39;49m\u001B[38;5;124;43m\"\u001B[39;49m\u001B[43m)\u001B[49m\u001B[43m,\u001B[49m\u001B[43m \u001B[49m\u001B[43mfilename\u001B[49m\u001B[43m,\u001B[49m\u001B[43m \u001B[49m\u001B[43mlength\u001B[49m\u001B[38;5;241;43m=\u001B[39;49m\u001B[43mresponse\u001B[49m\u001B[38;5;241;43m.\u001B[39;49m\u001B[43mlength\u001B[49m\u001B[43m)\u001B[49m\n",
      "File \u001B[0;32m~/.local/lib/python3.10/site-packages/torchvision/datasets/utils.py:37\u001B[0m, in \u001B[0;36m_save_response_content\u001B[0;34m(content, destination, length)\u001B[0m\n\u001B[1;32m     31\u001B[0m \u001B[38;5;28;01mdef\u001B[39;00m \u001B[38;5;21m_save_response_content\u001B[39m(\n\u001B[1;32m     32\u001B[0m     content: Iterator[\u001B[38;5;28mbytes\u001B[39m],\n\u001B[1;32m     33\u001B[0m     destination: \u001B[38;5;28mstr\u001B[39m,\n\u001B[1;32m     34\u001B[0m     length: Optional[\u001B[38;5;28mint\u001B[39m] \u001B[38;5;241m=\u001B[39m \u001B[38;5;28;01mNone\u001B[39;00m,\n\u001B[1;32m     35\u001B[0m ) \u001B[38;5;241m-\u001B[39m\u001B[38;5;241m>\u001B[39m \u001B[38;5;28;01mNone\u001B[39;00m:\n\u001B[1;32m     36\u001B[0m     \u001B[38;5;28;01mwith\u001B[39;00m \u001B[38;5;28mopen\u001B[39m(destination, \u001B[38;5;124m\"\u001B[39m\u001B[38;5;124mwb\u001B[39m\u001B[38;5;124m\"\u001B[39m) \u001B[38;5;28;01mas\u001B[39;00m fh, tqdm(total\u001B[38;5;241m=\u001B[39mlength) \u001B[38;5;28;01mas\u001B[39;00m pbar:\n\u001B[0;32m---> 37\u001B[0m         \u001B[38;5;28;01mfor\u001B[39;00m chunk \u001B[38;5;129;01min\u001B[39;00m content:\n\u001B[1;32m     38\u001B[0m             \u001B[38;5;66;03m# filter out keep-alive new chunks\u001B[39;00m\n\u001B[1;32m     39\u001B[0m             \u001B[38;5;28;01mif\u001B[39;00m \u001B[38;5;129;01mnot\u001B[39;00m chunk:\n\u001B[1;32m     40\u001B[0m                 \u001B[38;5;28;01mcontinue\u001B[39;00m\n",
      "File \u001B[0;32m~/.local/lib/python3.10/site-packages/torchvision/datasets/utils.py:48\u001B[0m, in \u001B[0;36m_urlretrieve.<locals>.<lambda>\u001B[0;34m()\u001B[0m\n\u001B[1;32m     46\u001B[0m \u001B[38;5;28;01mdef\u001B[39;00m \u001B[38;5;21m_urlretrieve\u001B[39m(url: \u001B[38;5;28mstr\u001B[39m, filename: \u001B[38;5;28mstr\u001B[39m, chunk_size: \u001B[38;5;28mint\u001B[39m \u001B[38;5;241m=\u001B[39m \u001B[38;5;241m1024\u001B[39m \u001B[38;5;241m*\u001B[39m \u001B[38;5;241m32\u001B[39m) \u001B[38;5;241m-\u001B[39m\u001B[38;5;241m>\u001B[39m \u001B[38;5;28;01mNone\u001B[39;00m:\n\u001B[1;32m     47\u001B[0m     \u001B[38;5;28;01mwith\u001B[39;00m urllib\u001B[38;5;241m.\u001B[39mrequest\u001B[38;5;241m.\u001B[39murlopen(urllib\u001B[38;5;241m.\u001B[39mrequest\u001B[38;5;241m.\u001B[39mRequest(url, headers\u001B[38;5;241m=\u001B[39m{\u001B[38;5;124m\"\u001B[39m\u001B[38;5;124mUser-Agent\u001B[39m\u001B[38;5;124m\"\u001B[39m: USER_AGENT})) \u001B[38;5;28;01mas\u001B[39;00m response:\n\u001B[0;32m---> 48\u001B[0m         _save_response_content(\u001B[38;5;28miter\u001B[39m(\u001B[38;5;28;01mlambda\u001B[39;00m: \u001B[43mresponse\u001B[49m\u001B[38;5;241;43m.\u001B[39;49m\u001B[43mread\u001B[49m\u001B[43m(\u001B[49m\u001B[43mchunk_size\u001B[49m\u001B[43m)\u001B[49m, \u001B[38;5;124mb\u001B[39m\u001B[38;5;124m\"\u001B[39m\u001B[38;5;124m\"\u001B[39m), filename, length\u001B[38;5;241m=\u001B[39mresponse\u001B[38;5;241m.\u001B[39mlength)\n",
      "File \u001B[0;32m/usr/lib/python3.10/http/client.py:465\u001B[0m, in \u001B[0;36mHTTPResponse.read\u001B[0;34m(self, amt)\u001B[0m\n\u001B[1;32m    462\u001B[0m \u001B[38;5;28;01mif\u001B[39;00m \u001B[38;5;28mself\u001B[39m\u001B[38;5;241m.\u001B[39mlength \u001B[38;5;129;01mis\u001B[39;00m \u001B[38;5;129;01mnot\u001B[39;00m \u001B[38;5;28;01mNone\u001B[39;00m \u001B[38;5;129;01mand\u001B[39;00m amt \u001B[38;5;241m>\u001B[39m \u001B[38;5;28mself\u001B[39m\u001B[38;5;241m.\u001B[39mlength:\n\u001B[1;32m    463\u001B[0m     \u001B[38;5;66;03m# clip the read to the \"end of response\"\u001B[39;00m\n\u001B[1;32m    464\u001B[0m     amt \u001B[38;5;241m=\u001B[39m \u001B[38;5;28mself\u001B[39m\u001B[38;5;241m.\u001B[39mlength\n\u001B[0;32m--> 465\u001B[0m s \u001B[38;5;241m=\u001B[39m \u001B[38;5;28;43mself\u001B[39;49m\u001B[38;5;241;43m.\u001B[39;49m\u001B[43mfp\u001B[49m\u001B[38;5;241;43m.\u001B[39;49m\u001B[43mread\u001B[49m\u001B[43m(\u001B[49m\u001B[43mamt\u001B[49m\u001B[43m)\u001B[49m\n\u001B[1;32m    466\u001B[0m \u001B[38;5;28;01mif\u001B[39;00m \u001B[38;5;129;01mnot\u001B[39;00m s \u001B[38;5;129;01mand\u001B[39;00m amt:\n\u001B[1;32m    467\u001B[0m     \u001B[38;5;66;03m# Ideally, we would raise IncompleteRead if the content-length\u001B[39;00m\n\u001B[1;32m    468\u001B[0m     \u001B[38;5;66;03m# wasn't satisfied, but it might break compatibility.\u001B[39;00m\n\u001B[1;32m    469\u001B[0m     \u001B[38;5;28mself\u001B[39m\u001B[38;5;241m.\u001B[39m_close_conn()\n",
      "File \u001B[0;32m/usr/lib/python3.10/socket.py:705\u001B[0m, in \u001B[0;36mSocketIO.readinto\u001B[0;34m(self, b)\u001B[0m\n\u001B[1;32m    703\u001B[0m \u001B[38;5;28;01mwhile\u001B[39;00m \u001B[38;5;28;01mTrue\u001B[39;00m:\n\u001B[1;32m    704\u001B[0m     \u001B[38;5;28;01mtry\u001B[39;00m:\n\u001B[0;32m--> 705\u001B[0m         \u001B[38;5;28;01mreturn\u001B[39;00m \u001B[38;5;28;43mself\u001B[39;49m\u001B[38;5;241;43m.\u001B[39;49m\u001B[43m_sock\u001B[49m\u001B[38;5;241;43m.\u001B[39;49m\u001B[43mrecv_into\u001B[49m\u001B[43m(\u001B[49m\u001B[43mb\u001B[49m\u001B[43m)\u001B[49m\n\u001B[1;32m    706\u001B[0m     \u001B[38;5;28;01mexcept\u001B[39;00m timeout:\n\u001B[1;32m    707\u001B[0m         \u001B[38;5;28mself\u001B[39m\u001B[38;5;241m.\u001B[39m_timeout_occurred \u001B[38;5;241m=\u001B[39m \u001B[38;5;28;01mTrue\u001B[39;00m\n",
      "File \u001B[0;32m/usr/lib/python3.10/ssl.py:1274\u001B[0m, in \u001B[0;36mSSLSocket.recv_into\u001B[0;34m(self, buffer, nbytes, flags)\u001B[0m\n\u001B[1;32m   1270\u001B[0m     \u001B[38;5;28;01mif\u001B[39;00m flags \u001B[38;5;241m!=\u001B[39m \u001B[38;5;241m0\u001B[39m:\n\u001B[1;32m   1271\u001B[0m         \u001B[38;5;28;01mraise\u001B[39;00m \u001B[38;5;167;01mValueError\u001B[39;00m(\n\u001B[1;32m   1272\u001B[0m           \u001B[38;5;124m\"\u001B[39m\u001B[38;5;124mnon-zero flags not allowed in calls to recv_into() on \u001B[39m\u001B[38;5;132;01m%s\u001B[39;00m\u001B[38;5;124m\"\u001B[39m \u001B[38;5;241m%\u001B[39m\n\u001B[1;32m   1273\u001B[0m           \u001B[38;5;28mself\u001B[39m\u001B[38;5;241m.\u001B[39m\u001B[38;5;18m__class__\u001B[39m)\n\u001B[0;32m-> 1274\u001B[0m     \u001B[38;5;28;01mreturn\u001B[39;00m \u001B[38;5;28;43mself\u001B[39;49m\u001B[38;5;241;43m.\u001B[39;49m\u001B[43mread\u001B[49m\u001B[43m(\u001B[49m\u001B[43mnbytes\u001B[49m\u001B[43m,\u001B[49m\u001B[43m \u001B[49m\u001B[43mbuffer\u001B[49m\u001B[43m)\u001B[49m\n\u001B[1;32m   1275\u001B[0m \u001B[38;5;28;01melse\u001B[39;00m:\n\u001B[1;32m   1276\u001B[0m     \u001B[38;5;28;01mreturn\u001B[39;00m \u001B[38;5;28msuper\u001B[39m()\u001B[38;5;241m.\u001B[39mrecv_into(buffer, nbytes, flags)\n",
      "File \u001B[0;32m/usr/lib/python3.10/ssl.py:1130\u001B[0m, in \u001B[0;36mSSLSocket.read\u001B[0;34m(self, len, buffer)\u001B[0m\n\u001B[1;32m   1128\u001B[0m \u001B[38;5;28;01mtry\u001B[39;00m:\n\u001B[1;32m   1129\u001B[0m     \u001B[38;5;28;01mif\u001B[39;00m buffer \u001B[38;5;129;01mis\u001B[39;00m \u001B[38;5;129;01mnot\u001B[39;00m \u001B[38;5;28;01mNone\u001B[39;00m:\n\u001B[0;32m-> 1130\u001B[0m         \u001B[38;5;28;01mreturn\u001B[39;00m \u001B[38;5;28;43mself\u001B[39;49m\u001B[38;5;241;43m.\u001B[39;49m\u001B[43m_sslobj\u001B[49m\u001B[38;5;241;43m.\u001B[39;49m\u001B[43mread\u001B[49m\u001B[43m(\u001B[49m\u001B[38;5;28;43mlen\u001B[39;49m\u001B[43m,\u001B[49m\u001B[43m \u001B[49m\u001B[43mbuffer\u001B[49m\u001B[43m)\u001B[49m\n\u001B[1;32m   1131\u001B[0m     \u001B[38;5;28;01melse\u001B[39;00m:\n\u001B[1;32m   1132\u001B[0m         \u001B[38;5;28;01mreturn\u001B[39;00m \u001B[38;5;28mself\u001B[39m\u001B[38;5;241m.\u001B[39m_sslobj\u001B[38;5;241m.\u001B[39mread(\u001B[38;5;28mlen\u001B[39m)\n",
      "\u001B[0;31mKeyboardInterrupt\u001B[0m: "
     ]
    }
   ],
   "source": [
    "transform = transforms.Compose([\n",
    "    transforms.ToTensor(),\n",
    "    transforms.Resize((32, 32)),\n",
    "    CustomMinMaxScaler()])\n",
    "\n",
    "train_dataset = torchvision.datasets.GTSRB('./data',\n",
    "                                         transform=transform,\n",
    "                                         download=True)\n",
    "test_dataset = torchvision.datasets.GTSRB('./data',\n",
    "                                        split='test',\n",
    "                                        transform=transform,\n",
    "                                        download=True)"
   ],
   "metadata": {
    "collapsed": false,
    "pycharm": {
     "name": "#%%\n"
    }
   }
  },
  {
   "cell_type": "markdown",
   "source": [
    "### 4. Split the data to train (70%), validation (10%) and test (20%)"
   ],
   "metadata": {
    "collapsed": false,
    "pycharm": {
     "name": "#%% md\n"
    }
   }
  },
  {
   "cell_type": "code",
   "execution_count": 5,
   "outputs": [
    {
     "name": "stdout",
     "output_type": "stream",
     "text": [
      "Train len: 26640, Test len: 12630\n",
      "Total len: 39270\n",
      "Val len: 3915, Test len: 8715\n"
     ]
    }
   ],
   "source": [
    "train_len = len(train_dataset)\n",
    "test_len = len(test_dataset)\n",
    "print(f\"Train len: {train_len}, Test len: {test_len}\")\n",
    "total_len = train_len + test_len\n",
    "print(f\"Total len: {total_len}\")\n",
    "\n",
    "new_val_len = int(0.31 * test_len)\n",
    "new_test_len = int(test_len-new_val_len)\n",
    "\n",
    "val_dataset, test_dataset = random_split(test_dataset,[new_val_len, new_test_len])\n",
    "print(f\"Val len: {new_val_len}, Test len: {new_test_len}\")\n",
    "\n",
    "train_dataloader = DataLoader(train_dataset, shuffle=True, batch_size=50)\n",
    "val_dataloader = DataLoader(val_dataset, shuffle=False, batch_size=1)\n",
    "test_dataloader = DataLoader(test_dataset, shuffle=False, batch_size=1)"
   ],
   "metadata": {
    "collapsed": false,
    "pycharm": {
     "name": "#%%\n"
    }
   }
  },
  {
   "cell_type": "markdown",
   "source": [
    "### 5. Class labels"
   ],
   "metadata": {
    "collapsed": false,
    "pycharm": {
     "name": "#%% md\n"
    }
   }
  },
  {
   "cell_type": "code",
   "execution_count": 6,
   "outputs": [],
   "source": [
    "classes = ('Speed limit (20km/h)',\n",
    "            'Speed limit (30km/h)',\n",
    "            'Speed limit (50km/h)',\n",
    "            'Speed limit (60km/h)',\n",
    "            'Speed limit (70km/h)',\n",
    "            'Speed limit (80km/h)',\n",
    "            'End of speed limit (80km/h)',\n",
    "            'Speed limit (100km/h)',\n",
    "            'Speed limit (120km/h)',\n",
    "            'No passing',\n",
    "            'No passing veh over 3.5 tons',\n",
    "            'Right-of-way at intersection',\n",
    "            'Priority road',\n",
    "            'Yield',\n",
    "            'Stop',\n",
    "            'No vehicles',\n",
    "            'Veh > 3.5 tons prohibited',\n",
    "            'No entry',\n",
    "            'General caution',\n",
    "            'Dangerous curve left',\n",
    "            'Dangerous curve right',\n",
    "            'Double curve',\n",
    "            'Bumpy road',\n",
    "            'Slippery road',\n",
    "            'Road narrows on the right',\n",
    "            'Road work',\n",
    "            'Traffic signals',\n",
    "            'Pedestrians',\n",
    "            'Children crossing',\n",
    "            'Bicycles crossing',\n",
    "            'Beware of ice/snow',\n",
    "            'Wild animals crossing',\n",
    "            'End speed + passing limits',\n",
    "            'Turn right ahead',\n",
    "            'Turn left ahead',\n",
    "            'Ahead only',\n",
    "            'Go straight or right',\n",
    "            'Go straight or left',\n",
    "            'Keep right',\n",
    "            'Keep left',\n",
    "            'Roundabout mandatory',\n",
    "            'End of no passing',\n",
    "            'End no passing veh > 3.5 tons')"
   ],
   "metadata": {
    "collapsed": false,
    "pycharm": {
     "name": "#%%\n"
    }
   }
  },
  {
   "cell_type": "markdown",
   "source": [
    "### 6. Display the preprocessed image from the dataloader"
   ],
   "metadata": {
    "collapsed": false,
    "pycharm": {
     "name": "#%% md\n"
    }
   }
  },
  {
   "cell_type": "code",
   "execution_count": 7,
   "outputs": [
    {
     "name": "stdout",
     "output_type": "stream",
     "text": [
      "torch.Size([50, 3, 32, 32])\n",
      "No passing veh over 3.5 tons\n"
     ]
    },
    {
     "data": {
      "text/plain": "<Figure size 640x480 with 1 Axes>",
      "image/png": "[encoded data removed]"
     },
     "metadata": {},
     "output_type": "display_data"
    }
   ],
   "source": [
    "images, labels = next(iter(train_dataloader))\n",
    "#print(images[0], labels[0])\n",
    "print(images.shape)\n",
    "plt.imshow(images[0][0])\n",
    "print(classes[labels[0]])"
   ],
   "metadata": {
    "collapsed": false,
    "pycharm": {
     "name": "#%%\n"
    }
   }
  },
  {
   "cell_type": "code",
   "execution_count": 8,
   "outputs": [],
   "source": [
    "#cv2.imshow('test', np.array(images[0][0]).astype(np.float32))\n",
    "#cv2.waitKey(0) # waits until a key is pressed\n",
    "#cv2.destroyAllWindows()"
   ],
   "metadata": {
    "collapsed": false,
    "pycharm": {
     "name": "#%%\n"
    }
   }
  },
  {
   "cell_type": "markdown",
   "source": [
    "### 7. Hyperparameters initialization"
   ],
   "metadata": {
    "collapsed": false,
    "pycharm": {
     "name": "#%% md\n"
    }
   }
  },
  {
   "cell_type": "code",
   "execution_count": 9,
   "outputs": [],
   "source": [
    "# hyper parameters\n",
    "input_size = 3\n",
    "n_classes = 43\n",
    "n_epochs = 20\n",
    "batch_size = 200\n",
    "learning_rt = 0.001"
   ],
   "metadata": {
    "collapsed": false,
    "pycharm": {
     "name": "#%%\n"
    }
   }
  },
  {
   "cell_type": "markdown",
   "source": [
    "### 8. Display the grid of images from the dataloader"
   ],
   "metadata": {
    "collapsed": false,
    "pycharm": {
     "name": "#%% md\n"
    }
   }
  },
  {
   "cell_type": "code",
   "execution_count": 10,
   "outputs": [
    {
     "name": "stdout",
     "output_type": "stream",
     "text": [
      "GroundTruth: \n",
      " General caution, Turn right ahead, Children crossing, No vehicles,\n"
     ]
    },
    {
     "data": {
      "text/plain": "<Figure size 640x480 with 1 Axes>",
      "image/png": "[encoded data removed]"
     },
     "metadata": {},
     "output_type": "display_data"
    }
   ],
   "source": [
    "import matplotlib.pyplot as plt\n",
    "import numpy as np\n",
    "\n",
    "# functions to show an image\n",
    "def imshow(img):\n",
    "    img = img / 2 + 0.5     # unnormalize\n",
    "    npimg = img.numpy()\n",
    "    plt.imshow(np.transpose(npimg, (1, 2, 0)))\n",
    "\n",
    "\n",
    "dataiter = iter(train_dataloader)\n",
    "images, labels = next(dataiter)\n",
    "\n",
    "#print images\n",
    "imshow(torchvision.utils.make_grid(images[:4]))\n",
    "print('GroundTruth: \\n', ' '.join('%5s,' % classes[labels[j]] for j in range(4)))"
   ],
   "metadata": {
    "collapsed": false,
    "pycharm": {
     "name": "#%%\n"
    }
   }
  },
  {
   "cell_type": "markdown",
   "source": [
    "# (ii) Machine learning or Deep learning model defining, training and hyperparameters turning and (iii) Model performance evaluation"
   ],
   "metadata": {
    "collapsed": false,
    "pycharm": {
     "name": "#%% md\n"
    }
   }
  },
  {
   "cell_type": "markdown",
   "source": [
    "### 1. Baseline Neural Network class"
   ],
   "metadata": {
    "collapsed": false,
    "pycharm": {
     "name": "#%% md\n"
    }
   }
  },
  {
   "cell_type": "code",
   "execution_count": 11,
   "outputs": [
    {
     "name": "stdout",
     "output_type": "stream",
     "text": [
      "cuda\n"
     ]
    }
   ],
   "source": [
    "class NeuralNet(torch.nn.Module):\n",
    "    \"\"\"\n",
    "    It is a simple Baseline Model as per the home-work details.\n",
    "    \"\"\"\n",
    "    def __init__(self, input_size, n_classes):\n",
    "        super(NeuralNet, self).__init__()\n",
    "        self.layers = torch.nn.Sequential(\n",
    "        nn.Conv2d(input_size, 32, 3, stride=1, padding=1),   # Conv 1 (32, 32, 32)\n",
    "        nn.BatchNorm2d(32),\n",
    "        nn.ReLU(inplace=True),\n",
    "        nn.Dropout(0.2),\n",
    "\n",
    "        nn.Conv2d(32, 32, 3, stride=1, padding=1),  # Conv 2 (32, 32, 32)\n",
    "        nn.MaxPool2d(2, 2),                         # Pool 1 (32, 16, 16)\n",
    "        nn.BatchNorm2d(32),\n",
    "        nn.ReLU(inplace=True),\n",
    "        nn.Dropout(0.2),\n",
    "\n",
    "        nn.Conv2d(32, 64, 3, stride=1, padding=1),  # Conv 3 (64, 16, 16)\n",
    "        nn.BatchNorm2d(64),\n",
    "        nn.ReLU(inplace=True),\n",
    "        nn.Dropout(0.2),\n",
    "\n",
    "        nn.Conv2d(64, 64, 3, stride=1, padding=1),  # Conv 4 (64, 16, 16)\n",
    "        nn.MaxPool2d(2, 2),                         # Pool 2 (64, 8, 8)\n",
    "        nn.BatchNorm2d(64),\n",
    "        nn.ReLU(inplace=True),\n",
    "        nn.Dropout(0.2),\n",
    "\n",
    "        nn.Conv2d(64, 128, 3, stride=1, padding=1), # Conv 5 (128, 8, 8)\n",
    "        nn.BatchNorm2d(128),\n",
    "        nn.ReLU(inplace=True),\n",
    "        nn.Dropout(0.2),\n",
    "\n",
    "        nn.Conv2d(128, 128, 3, stride=1, padding=1),# Conv 6 (128, 8, 8)\n",
    "        nn.MaxPool2d(2, 2),                         # Pool 3 (128, 4, 4)\n",
    "        nn.BatchNorm2d(128),\n",
    "        nn.ReLU(inplace=True),\n",
    "        nn.Dropout(0.2),\n",
    "\n",
    "        nn.Flatten(),                               # Flat 1 (2048) i.e 128x4x4\n",
    "        nn.Linear(2048, 512),                       # Lin 1 (512)\n",
    "        nn.ReLU(inplace=True),\n",
    "        nn.Dropout(0.2),\n",
    "\n",
    "        nn.Linear(512, n_classes),                         # Lin 2 (43)\n",
    "        #nn.Softmax(dim=1),                          # Softmax (43)\n",
    "        )\n",
    "\n",
    "    def forward(self, x):\n",
    "        out = self.layers(x)\n",
    "        return out\n",
    "\n",
    "device = torch.device('cuda' if torch.cuda.is_available() else 'cpu')\n",
    "print(device)\n",
    "\n",
    "model = NeuralNet(input_size=input_size, n_classes=n_classes).to(device)"
   ],
   "metadata": {
    "collapsed": false,
    "pycharm": {
     "name": "#%%\n"
    }
   }
  },
  {
   "cell_type": "code",
   "execution_count": 12,
   "outputs": [
    {
     "name": "stdout",
     "output_type": "stream",
     "text": [
      "----------------------------------------------------------------\n",
      "        Layer (type)               Output Shape         Param #\n",
      "================================================================\n",
      "            Conv2d-1           [-1, 32, 32, 32]             896\n",
      "       BatchNorm2d-2           [-1, 32, 32, 32]              64\n",
      "              ReLU-3           [-1, 32, 32, 32]               0\n",
      "           Dropout-4           [-1, 32, 32, 32]               0\n",
      "            Conv2d-5           [-1, 32, 32, 32]           9,248\n",
      "         MaxPool2d-6           [-1, 32, 16, 16]               0\n",
      "       BatchNorm2d-7           [-1, 32, 16, 16]              64\n",
      "              ReLU-8           [-1, 32, 16, 16]               0\n",
      "           Dropout-9           [-1, 32, 16, 16]               0\n",
      "           Conv2d-10           [-1, 64, 16, 16]          18,496\n",
      "      BatchNorm2d-11           [-1, 64, 16, 16]             128\n",
      "             ReLU-12           [-1, 64, 16, 16]               0\n",
      "          Dropout-13           [-1, 64, 16, 16]               0\n",
      "           Conv2d-14           [-1, 64, 16, 16]          36,928\n",
      "        MaxPool2d-15             [-1, 64, 8, 8]               0\n",
      "      BatchNorm2d-16             [-1, 64, 8, 8]             128\n",
      "             ReLU-17             [-1, 64, 8, 8]               0\n",
      "          Dropout-18             [-1, 64, 8, 8]               0\n",
      "           Conv2d-19            [-1, 128, 8, 8]          73,856\n",
      "      BatchNorm2d-20            [-1, 128, 8, 8]             256\n",
      "             ReLU-21            [-1, 128, 8, 8]               0\n",
      "          Dropout-22            [-1, 128, 8, 8]               0\n",
      "           Conv2d-23            [-1, 128, 8, 8]         147,584\n",
      "        MaxPool2d-24            [-1, 128, 4, 4]               0\n",
      "      BatchNorm2d-25            [-1, 128, 4, 4]             256\n",
      "             ReLU-26            [-1, 128, 4, 4]               0\n",
      "          Dropout-27            [-1, 128, 4, 4]               0\n",
      "          Flatten-28                 [-1, 2048]               0\n",
      "           Linear-29                  [-1, 512]       1,049,088\n",
      "             ReLU-30                  [-1, 512]               0\n",
      "          Dropout-31                  [-1, 512]               0\n",
      "           Linear-32                   [-1, 43]          22,059\n",
      "================================================================\n",
      "Total params: 1,359,051\n",
      "Trainable params: 1,359,051\n",
      "Non-trainable params: 0\n",
      "----------------------------------------------------------------\n",
      "Input size (MB): 0.01\n",
      "Forward/backward pass size (MB): 2.65\n",
      "Params size (MB): 5.18\n",
      "Estimated Total Size (MB): 7.85\n",
      "----------------------------------------------------------------\n"
     ]
    }
   ],
   "source": [
    "summary(model, (3, 32, 32))"
   ],
   "metadata": {
    "collapsed": false,
    "pycharm": {
     "name": "#%%\n"
    }
   }
  },
  {
   "cell_type": "markdown",
   "source": [
    "### 2. Tensorboard Initialization for Task-2.1"
   ],
   "metadata": {
    "collapsed": false,
    "pycharm": {
     "name": "#%% md\n"
    }
   }
  },
  {
   "cell_type": "code",
   "execution_count": 13,
   "outputs": [
    {
     "name": "stderr",
     "output_type": "stream",
     "text": [
      "2022-11-20 21:34:24.616129: I tensorflow/core/platform/cpu_feature_guard.cc:193] This TensorFlow binary is optimized with oneAPI Deep Neural Network Library (oneDNN) to use the following CPU instructions in performance-critical operations:  AVX2 FMA\n",
      "To enable them in other operations, rebuild TensorFlow with the appropriate compiler flags.\n",
      "2022-11-20 21:34:24.777464: E tensorflow/stream_executor/cuda/cuda_blas.cc:2981] Unable to register cuBLAS factory: Attempting to register factory for plugin cuBLAS when one has already been registered\n",
      "2022-11-20 21:34:25.432672: W tensorflow/stream_executor/platform/default/dso_loader.cc:64] Could not load dynamic library 'libnvinfer.so.7'; dlerror: libnvinfer.so.7: cannot open shared object file: No such file or directory; LD_LIBRARY_PATH: /home/syed/.local/lib/python3.10/site-packages/cv2/../../lib64:\n",
      "2022-11-20 21:34:25.432742: W tensorflow/stream_executor/platform/default/dso_loader.cc:64] Could not load dynamic library 'libnvinfer_plugin.so.7'; dlerror: libnvinfer_plugin.so.7: cannot open shared object file: No such file or directory; LD_LIBRARY_PATH: /home/syed/.local/lib/python3.10/site-packages/cv2/../../lib64:\n",
      "2022-11-20 21:34:25.432750: W tensorflow/compiler/tf2tensorrt/utils/py_utils.cc:38] TF-TRT Warning: Cannot dlopen some TensorRT libraries. If you would like to use Nvidia GPU with TensorRT, please make sure the missing libraries mentioned above are installed properly.\n"
     ]
    }
   ],
   "source": [
    "writer = SummaryWriter(\"runs/task2-1\")"
   ],
   "metadata": {
    "collapsed": false,
    "pycharm": {
     "name": "#%%\n"
    }
   }
  },
  {
   "cell_type": "code",
   "execution_count": 14,
   "outputs": [],
   "source": [
    "#!tensorboard --logdir=runs"
   ],
   "metadata": {
    "collapsed": false,
    "pycharm": {
     "name": "#%%\n"
    }
   }
  },
  {
   "cell_type": "markdown",
   "source": [
    "### 3. Simple Neural Network Training and Testing Loop Functions"
   ],
   "metadata": {
    "collapsed": false,
    "pycharm": {
     "name": "#%% md\n"
    }
   }
  },
  {
   "cell_type": "code",
   "execution_count": 30,
   "outputs": [],
   "source": [
    "n_correct = 0\n",
    "n_samples = 0\n",
    "plot_loss = []\n",
    "plot_accuracy = []\n",
    "from sklearn.metrics import f1_score\n",
    "\n",
    "def train(model, dataloader, val_dataloader, optimizer, criterion, device, nth_model=1):\n",
    "    \"\"\"This Functions purpose is to train the model\n",
    "    :param model: The model which we need to train\n",
    "    :param dataloader: The dataset which we need to train on\n",
    "    :param optimizer: The optimizer function by which the weights are to be updated\n",
    "    :param criterion: The loss function\n",
    "    :param device: cuda or cpu (On which device the model will be trained)\n",
    "    \"\"\"\n",
    "    # training loop\n",
    "    model.train()\n",
    "    model_list = []\n",
    "    global plot_loss, plot_accuracy\n",
    "    plot_loss = []\n",
    "    plot_accuracy = []\n",
    "    running_loss = 0.0\n",
    "    running_correct = 0\n",
    "    running_acc = 0.0\n",
    "    n_total_steps = len(train_dataloader)\n",
    "    for epoch in range(n_epochs):\n",
    "\n",
    "        running_loss = 0.0\n",
    "        running_acc = 0.0\n",
    "        for i, (data, labels) in enumerate(dataloader):\n",
    "\n",
    "            labels = labels.type(torch.LongTensor)\n",
    "            data = data.to(device)\n",
    "            labels = labels.to(device)\n",
    "\n",
    "            # Forward\n",
    "            outputs = model(data)\n",
    "            labels = labels\n",
    "\n",
    "            # Loss\n",
    "            loss = criterion(outputs, labels)\n",
    "\n",
    "            # Backward\n",
    "            optimizer.zero_grad()\n",
    "            loss.backward()\n",
    "            optimizer.step()\n",
    "\n",
    "            # recording Loss and correct Predictions\n",
    "            running_loss += loss.item()\n",
    "            _, predicted = torch.max(outputs, 1)\n",
    "            running_correct += (predicted == labels).sum().item()\n",
    "\n",
    "            #if (i+1) % 100 == 0:\n",
    "        print(f\"\\nModel [{nth_model}/{nth_model}], Epoch: [{epoch+1}/{n_epochs}], Step [{i+1}/{n_total_steps}], loss = {loss.item():.4f}, \", end=\"\")\n",
    "\n",
    "        train_acc, train_f1 = test(model, train_dataloader, device, name=f\"Train acc\")\n",
    "        val_acc, val_f1 = test(model, val_dataloader, device, name=f\"Val acc\")\n",
    "        test_acc, test_f1 = test(model, test_dataloader, device, name=f\"Test acc\")\n",
    "\n",
    "        model_list.append(model)\n",
    "        writer.add_scalar('Accuracy/Train', train_acc, epoch)\n",
    "        writer.add_scalar('Accuracy/Val', val_acc, epoch)\n",
    "        writer.add_scalar('Accuracy/Test', test_acc, epoch)\n",
    "\n",
    "        writer.add_scalar('F1_Score/Train', train_f1, epoch)\n",
    "        writer.add_scalar('F1_Score/Val', val_f1, epoch)\n",
    "        writer.add_scalar('F1_Score/Test', test_f1, epoch)\n",
    "\n",
    "        running_loss /= len(dataloader)\n",
    "        writer.add_scalar('Loss/Train', running_loss, epoch)\n",
    "        #for tag,parm in model.named_parameters():\n",
    "        #    writer.add_histogram(tag, parm.grad.data.cpu().numpy(), epoch)\n",
    "    writer.flush()\n",
    "    print(f\"Training Ends\")\n",
    "    return model\n",
    "\n",
    "\n",
    "def test(model, dataloader, device, name=\"Test\"):\n",
    "    \"\"\"This Functions purpose is to test the model\n",
    "    :param model: The model which we need to test\n",
    "    :param dataloader: The dataset which we need to test on\n",
    "    :param device: cuda or cpu (On which device the model will be tested)\n",
    "    :param name: The name of the test dataset (Train, Validation or Test datasets)\n",
    "    \"\"\"\n",
    "    # Testing\n",
    "    #print(f\" Testing of {name} dataset begins\")\n",
    "    model.eval()\n",
    "    with torch.no_grad():\n",
    "        global n_correct, n_samples\n",
    "        n_correct, n_samples = 0, 0\n",
    "        for i, (data, labels) in enumerate(dataloader):\n",
    "            labels = labels.type(torch.LongTensor)\n",
    "            data = data.to(device)\n",
    "            labels = labels.to(device)\n",
    "            outputs = model(data)\n",
    "\n",
    "            # value, index\n",
    "            _, predictions = torch.max(outputs, 1)\n",
    "            n_samples += labels.shape[0]\n",
    "            n_correct += (predictions == labels).sum().item()\n",
    "        f1 = f1_score(np.array(labels.cpu()).astype(np.float32), np.array(predictions.cpu()).astype(np.float32), average='macro')\n",
    "        acc = 100.0 * n_correct /n_samples\n",
    "        print(f\"{name}: {acc:.2f}, f1: {f1:.2f} \", end=\"\")\n",
    "    return acc, f1"
   ],
   "metadata": {
    "collapsed": false,
    "pycharm": {
     "name": "#%%\n"
    }
   }
  },
  {
   "cell_type": "markdown",
   "source": [
    "### 4. Loss and Optimizers"
   ],
   "metadata": {
    "collapsed": false,
    "pycharm": {
     "name": "#%% md\n"
    }
   }
  },
  {
   "cell_type": "code",
   "execution_count": 31,
   "outputs": [
    {
     "name": "stdout",
     "output_type": "stream",
     "text": [
      "Lables in sequence are:\n",
      "\n",
      "No passing veh over 3.5 tons\n",
      "Priority road\n",
      "Ahead only\n",
      "No entry\n",
      "Yield\n",
      "Speed limit (60km/h)\n"
     ]
    },
    {
     "data": {
      "text/plain": "<Figure size 640x480 with 6 Axes>",
      "image/png": "[encoded data removed]"
     },
     "metadata": {},
     "output_type": "display_data"
    }
   ],
   "source": [
    "# loss and optimizer\n",
    "criterion = nn.CrossEntropyLoss(reduction='mean')\n",
    "optimizer = torch.optim.SGD(model.parameters(), lr=learning_rt, momentum=0.9, weight_decay=0.00001)\n",
    "\n",
    "data, labels = next(iter(train_dataloader))\n",
    "\n",
    "print(\"Lables in sequence are:\\n\")\n",
    "for i in range(6):\n",
    "  plt.subplot(2, 3, i+1)\n",
    "  plt.imshow(data[i][0], cmap='gray')\n",
    "  print(classes[labels[i]])\n",
    "#plt.show()\n",
    "img_grid = torchvision.utils.make_grid(data)\n",
    "\n",
    "writer.add_image('Task 2.1', img_grid)\n",
    "writer.close()\n"
   ],
   "metadata": {
    "collapsed": false,
    "pycharm": {
     "name": "#%%\n"
    }
   }
  },
  {
   "cell_type": "markdown",
   "source": [
    "### 5. Training the model and Evaluation metrics"
   ],
   "metadata": {
    "collapsed": false,
    "pycharm": {
     "name": "#%% md\n"
    }
   }
  },
  {
   "cell_type": "code",
   "execution_count": 17,
   "outputs": [
    {
     "name": "stdout",
     "output_type": "stream",
     "text": [
      "\n",
      "Model [1/1], Epoch: [1/20], Step [533/533], loss = 1.8828, Train acc: 36.64, f1: 0.33 Val acc: 31.26, f1: 0.00 Test acc: 31.41, f1: 0.00 \n",
      "Model [1/1], Epoch: [2/20], Step [533/533], loss = 0.0449, Train acc: 97.25, f1: 0.98 Val acc: 87.46, f1: 0.00 Test acc: 87.50, f1: 0.00 \n",
      "Model [1/1], Epoch: [3/20], Step [533/533], loss = 0.0086, Train acc: 99.46, f1: 1.00 Val acc: 91.19, f1: 1.00 Test acc: 91.08, f1: 1.00 \n",
      "Model [1/1], Epoch: [4/20], Step [533/533], loss = 0.0338, Train acc: 99.88, f1: 1.00 Val acc: 92.77, f1: 1.00 Test acc: 92.15, f1: 1.00 \n",
      "Model [1/1], Epoch: [5/20], Step [533/533], loss = 0.0005, Train acc: 99.95, f1: 1.00 Val acc: 93.15, f1: 1.00 Test acc: 93.05, f1: 1.00 \n",
      "Model [1/1], Epoch: [6/20], Step [533/533], loss = 0.0000, Train acc: 100.00, f1: 1.00 Val acc: 93.41, f1: 1.00 Test acc: 93.20, f1: 1.00 \n",
      "Model [1/1], Epoch: [7/20], Step [533/533], loss = 0.0000, Train acc: 99.99, f1: 1.00 Val acc: 93.23, f1: 1.00 Test acc: 92.90, f1: 1.00 \n",
      "Model [1/1], Epoch: [8/20], Step [533/533], loss = 0.0000, Train acc: 100.00, f1: 1.00 Val acc: 93.72, f1: 1.00 Test acc: 93.26, f1: 1.00 \n",
      "Model [1/1], Epoch: [9/20], Step [533/533], loss = 0.0001, Train acc: 100.00, f1: 1.00 Val acc: 93.61, f1: 1.00 Test acc: 93.23, f1: 1.00 \n",
      "Model [1/1], Epoch: [10/20], Step [533/533], loss = 0.0001, Train acc: 100.00, f1: 1.00 Val acc: 93.67, f1: 1.00 Test acc: 93.26, f1: 1.00 \n",
      "Model [1/1], Epoch: [11/20], Step [533/533], loss = 0.0000, Train acc: 100.00, f1: 1.00 Val acc: 93.67, f1: 1.00 Test acc: 93.29, f1: 1.00 \n",
      "Model [1/1], Epoch: [12/20], Step [533/533], loss = 0.0000, Train acc: 100.00, f1: 1.00 Val acc: 93.69, f1: 1.00 Test acc: 93.25, f1: 1.00 \n",
      "Model [1/1], Epoch: [13/20], Step [533/533], loss = 0.0000, Train acc: 100.00, f1: 1.00 Val acc: 93.64, f1: 1.00 Test acc: 93.30, f1: 1.00 \n",
      "Model [1/1], Epoch: [14/20], Step [533/533], loss = 0.0000, Train acc: 100.00, f1: 1.00 Val acc: 93.61, f1: 1.00 Test acc: 93.25, f1: 1.00 \n",
      "Model [1/1], Epoch: [15/20], Step [533/533], loss = 0.0000, Train acc: 100.00, f1: 1.00 Val acc: 93.59, f1: 1.00 Test acc: 93.21, f1: 1.00 \n",
      "Model [1/1], Epoch: [16/20], Step [533/533], loss = 0.0000, Train acc: 100.00, f1: 1.00 Val acc: 93.59, f1: 1.00 Test acc: 93.21, f1: 1.00 \n",
      "Model [1/1], Epoch: [17/20], Step [533/533], loss = 0.0001, Train acc: 100.00, f1: 1.00 Val acc: 93.61, f1: 1.00 Test acc: 93.28, f1: 1.00 \n",
      "Model [1/1], Epoch: [18/20], Step [533/533], loss = 0.0000, Train acc: 100.00, f1: 1.00 Val acc: 93.61, f1: 1.00 Test acc: 93.24, f1: 1.00 \n",
      "Model [1/1], Epoch: [19/20], Step [533/533], loss = 0.0000, Train acc: 100.00, f1: 1.00 Val acc: 93.59, f1: 1.00 Test acc: 93.25, f1: 1.00 \n",
      "Model [1/1], Epoch: [20/20], Step [533/533], loss = 0.0000, Train acc: 100.00, f1: 1.00 Val acc: 93.59, f1: 1.00 Test acc: 93.20, f1: 1.00 Training Ends\n"
     ]
    }
   ],
   "source": [
    "model = train(model=model, dataloader=train_dataloader,val_dataloader=val_dataloader, optimizer=optimizer, criterion=criterion, device=device)"
   ],
   "metadata": {
    "collapsed": false,
    "pycharm": {
     "name": "#%%\n"
    }
   }
  },
  {
   "cell_type": "markdown",
   "source": [
    "### Observation:\n",
    "#### There is an overfit in the training but the Validation and test accuracys are good\n"
   ],
   "metadata": {
    "collapsed": false,
    "pycharm": {
     "name": "#%% md\n"
    }
   }
  },
  {
   "cell_type": "markdown",
   "source": [
    "# Task 2.2"
   ],
   "metadata": {
    "collapsed": false,
    "pycharm": {
     "name": "#%% md\n"
    }
   }
  },
  {
   "cell_type": "markdown",
   "source": [
    "### 1. Get the pretrained resnet18 model from the torchvision and freeze the model"
   ],
   "metadata": {
    "collapsed": false,
    "pycharm": {
     "name": "#%% md\n"
    }
   }
  },
  {
   "cell_type": "code",
   "execution_count": 112,
   "outputs": [
    {
     "name": "stderr",
     "output_type": "stream",
     "text": [
      "/home/syed/.local/lib/python3.10/site-packages/torchvision/models/_utils.py:208: UserWarning: The parameter 'pretrained' is deprecated since 0.13 and may be removed in the future, please use 'weights' instead.\n",
      "  warnings.warn(\n",
      "/home/syed/.local/lib/python3.10/site-packages/torchvision/models/_utils.py:223: UserWarning: Arguments other than a weight enum or `None` for 'weights' are deprecated since 0.13 and may be removed in the future. The current behavior is equivalent to passing `weights=ResNet18_Weights.IMAGENET1K_V1`. You can also use `weights=ResNet18_Weights.DEFAULT` to get the most up-to-date weights.\n",
      "  warnings.warn(msg)\n"
     ]
    }
   ],
   "source": [
    "from torchvision import models\n",
    "model = models.resnet18(pretrained=True)\n",
    "model = model.to(device)\n",
    "for param in model.parameters():\n",
    "  param.requires_grad = False"
   ],
   "metadata": {
    "collapsed": false,
    "pycharm": {
     "name": "#%%\n"
    }
   }
  },
  {
   "cell_type": "markdown",
   "source": [
    "### 2. Print the model"
   ],
   "metadata": {
    "collapsed": false,
    "pycharm": {
     "name": "#%% md\n"
    }
   }
  },
  {
   "cell_type": "code",
   "execution_count": 113,
   "outputs": [
    {
     "name": "stdout",
     "output_type": "stream",
     "text": [
      "ResNet(\n",
      "  (conv1): Conv2d(3, 64, kernel_size=(7, 7), stride=(2, 2), padding=(3, 3), bias=False)\n",
      "  (bn1): BatchNorm2d(64, eps=1e-05, momentum=0.1, affine=True, track_running_stats=True)\n",
      "  (relu): ReLU(inplace=True)\n",
      "  (maxpool): MaxPool2d(kernel_size=3, stride=2, padding=1, dilation=1, ceil_mode=False)\n",
      "  (layer1): Sequential(\n",
      "    (0): BasicBlock(\n",
      "      (conv1): Conv2d(64, 64, kernel_size=(3, 3), stride=(1, 1), padding=(1, 1), bias=False)\n",
      "      (bn1): BatchNorm2d(64, eps=1e-05, momentum=0.1, affine=True, track_running_stats=True)\n",
      "      (relu): ReLU(inplace=True)\n",
      "      (conv2): Conv2d(64, 64, kernel_size=(3, 3), stride=(1, 1), padding=(1, 1), bias=False)\n",
      "      (bn2): BatchNorm2d(64, eps=1e-05, momentum=0.1, affine=True, track_running_stats=True)\n",
      "    )\n",
      "    (1): BasicBlock(\n",
      "      (conv1): Conv2d(64, 64, kernel_size=(3, 3), stride=(1, 1), padding=(1, 1), bias=False)\n",
      "      (bn1): BatchNorm2d(64, eps=1e-05, momentum=0.1, affine=True, track_running_stats=True)\n",
      "      (relu): ReLU(inplace=True)\n",
      "      (conv2): Conv2d(64, 64, kernel_size=(3, 3), stride=(1, 1), padding=(1, 1), bias=False)\n",
      "      (bn2): BatchNorm2d(64, eps=1e-05, momentum=0.1, affine=True, track_running_stats=True)\n",
      "    )\n",
      "  )\n",
      "  (layer2): Sequential(\n",
      "    (0): BasicBlock(\n",
      "      (conv1): Conv2d(64, 128, kernel_size=(3, 3), stride=(2, 2), padding=(1, 1), bias=False)\n",
      "      (bn1): BatchNorm2d(128, eps=1e-05, momentum=0.1, affine=True, track_running_stats=True)\n",
      "      (relu): ReLU(inplace=True)\n",
      "      (conv2): Conv2d(128, 128, kernel_size=(3, 3), stride=(1, 1), padding=(1, 1), bias=False)\n",
      "      (bn2): BatchNorm2d(128, eps=1e-05, momentum=0.1, affine=True, track_running_stats=True)\n",
      "      (downsample): Sequential(\n",
      "        (0): Conv2d(64, 128, kernel_size=(1, 1), stride=(2, 2), bias=False)\n",
      "        (1): BatchNorm2d(128, eps=1e-05, momentum=0.1, affine=True, track_running_stats=True)\n",
      "      )\n",
      "    )\n",
      "    (1): BasicBlock(\n",
      "      (conv1): Conv2d(128, 128, kernel_size=(3, 3), stride=(1, 1), padding=(1, 1), bias=False)\n",
      "      (bn1): BatchNorm2d(128, eps=1e-05, momentum=0.1, affine=True, track_running_stats=True)\n",
      "      (relu): ReLU(inplace=True)\n",
      "      (conv2): Conv2d(128, 128, kernel_size=(3, 3), stride=(1, 1), padding=(1, 1), bias=False)\n",
      "      (bn2): BatchNorm2d(128, eps=1e-05, momentum=0.1, affine=True, track_running_stats=True)\n",
      "    )\n",
      "  )\n",
      "  (layer3): Sequential(\n",
      "    (0): BasicBlock(\n",
      "      (conv1): Conv2d(128, 256, kernel_size=(3, 3), stride=(2, 2), padding=(1, 1), bias=False)\n",
      "      (bn1): BatchNorm2d(256, eps=1e-05, momentum=0.1, affine=True, track_running_stats=True)\n",
      "      (relu): ReLU(inplace=True)\n",
      "      (conv2): Conv2d(256, 256, kernel_size=(3, 3), stride=(1, 1), padding=(1, 1), bias=False)\n",
      "      (bn2): BatchNorm2d(256, eps=1e-05, momentum=0.1, affine=True, track_running_stats=True)\n",
      "      (downsample): Sequential(\n",
      "        (0): Conv2d(128, 256, kernel_size=(1, 1), stride=(2, 2), bias=False)\n",
      "        (1): BatchNorm2d(256, eps=1e-05, momentum=0.1, affine=True, track_running_stats=True)\n",
      "      )\n",
      "    )\n",
      "    (1): BasicBlock(\n",
      "      (conv1): Conv2d(256, 256, kernel_size=(3, 3), stride=(1, 1), padding=(1, 1), bias=False)\n",
      "      (bn1): BatchNorm2d(256, eps=1e-05, momentum=0.1, affine=True, track_running_stats=True)\n",
      "      (relu): ReLU(inplace=True)\n",
      "      (conv2): Conv2d(256, 256, kernel_size=(3, 3), stride=(1, 1), padding=(1, 1), bias=False)\n",
      "      (bn2): BatchNorm2d(256, eps=1e-05, momentum=0.1, affine=True, track_running_stats=True)\n",
      "    )\n",
      "  )\n",
      "  (layer4): Sequential(\n",
      "    (0): BasicBlock(\n",
      "      (conv1): Conv2d(256, 512, kernel_size=(3, 3), stride=(2, 2), padding=(1, 1), bias=False)\n",
      "      (bn1): BatchNorm2d(512, eps=1e-05, momentum=0.1, affine=True, track_running_stats=True)\n",
      "      (relu): ReLU(inplace=True)\n",
      "      (conv2): Conv2d(512, 512, kernel_size=(3, 3), stride=(1, 1), padding=(1, 1), bias=False)\n",
      "      (bn2): BatchNorm2d(512, eps=1e-05, momentum=0.1, affine=True, track_running_stats=True)\n",
      "      (downsample): Sequential(\n",
      "        (0): Conv2d(256, 512, kernel_size=(1, 1), stride=(2, 2), bias=False)\n",
      "        (1): BatchNorm2d(512, eps=1e-05, momentum=0.1, affine=True, track_running_stats=True)\n",
      "      )\n",
      "    )\n",
      "    (1): BasicBlock(\n",
      "      (conv1): Conv2d(512, 512, kernel_size=(3, 3), stride=(1, 1), padding=(1, 1), bias=False)\n",
      "      (bn1): BatchNorm2d(512, eps=1e-05, momentum=0.1, affine=True, track_running_stats=True)\n",
      "      (relu): ReLU(inplace=True)\n",
      "      (conv2): Conv2d(512, 512, kernel_size=(3, 3), stride=(1, 1), padding=(1, 1), bias=False)\n",
      "      (bn2): BatchNorm2d(512, eps=1e-05, momentum=0.1, affine=True, track_running_stats=True)\n",
      "    )\n",
      "  )\n",
      "  (avgpool): AdaptiveAvgPool2d(output_size=(1, 1))\n",
      "  (fc): Linear(in_features=512, out_features=1000, bias=True)\n",
      ")\n"
     ]
    }
   ],
   "source": [
    "print(model)"
   ],
   "metadata": {
    "collapsed": false,
    "pycharm": {
     "name": "#%%\n"
    }
   }
  },
  {
   "cell_type": "markdown",
   "source": [
    "### 3. Assign the Layers"
   ],
   "metadata": {
    "collapsed": false,
    "pycharm": {
     "name": "#%% md\n"
    }
   }
  },
  {
   "cell_type": "code",
   "execution_count": 114,
   "outputs": [
    {
     "data": {
      "text/plain": "Sequential(\n  (0): BasicBlock(\n    (conv1): Conv2d(256, 512, kernel_size=(3, 3), stride=(2, 2), padding=(1, 1), bias=False)\n    (bn1): BatchNorm2d(512, eps=1e-05, momentum=0.1, affine=True, track_running_stats=True)\n    (relu): ReLU(inplace=True)\n    (conv2): Conv2d(512, 512, kernel_size=(3, 3), stride=(1, 1), padding=(1, 1), bias=False)\n    (bn2): BatchNorm2d(512, eps=1e-05, momentum=0.1, affine=True, track_running_stats=True)\n    (downsample): Sequential(\n      (0): Conv2d(256, 512, kernel_size=(1, 1), stride=(2, 2), bias=False)\n      (1): BatchNorm2d(512, eps=1e-05, momentum=0.1, affine=True, track_running_stats=True)\n    )\n  )\n  (1): BasicBlock(\n    (conv1): Conv2d(512, 512, kernel_size=(3, 3), stride=(1, 1), padding=(1, 1), bias=False)\n    (bn1): BatchNorm2d(512, eps=1e-05, momentum=0.1, affine=True, track_running_stats=True)\n    (relu): ReLU(inplace=True)\n    (conv2): Conv2d(512, 512, kernel_size=(3, 3), stride=(1, 1), padding=(1, 1), bias=False)\n    (bn2): BatchNorm2d(512, eps=1e-05, momentum=0.1, affine=True, track_running_stats=True)\n  )\n)"
     },
     "execution_count": 114,
     "metadata": {},
     "output_type": "execute_result"
    }
   ],
   "source": [
    "model.classifier = nn.Linear(1024,43)\n",
    "model.classifier.requires_grad_(True)\n",
    "model.classifier =  torch.nn.Sequential(\n",
    "            nn.Dropout(0.3),\n",
    "            nn.Linear(1024,43),)\n",
    "model.classifier.requires_grad_(True)\n",
    "model.layer4.requires_grad_(True)"
   ],
   "metadata": {
    "collapsed": false,
    "pycharm": {
     "name": "#%%\n"
    }
   }
  },
  {
   "cell_type": "markdown",
   "source": [
    "### 4. Print the list of Learning paramenters"
   ],
   "metadata": {
    "collapsed": false,
    "pycharm": {
     "name": "#%% md\n"
    }
   }
  },
  {
   "cell_type": "code",
   "execution_count": 115,
   "outputs": [
    {
     "name": "stdout",
     "output_type": "stream",
     "text": [
      "Learning parameters are:\n",
      "\t layer4.0.conv1.weight\n",
      "\t layer4.0.bn1.weight\n",
      "\t layer4.0.bn1.bias\n",
      "\t layer4.0.conv2.weight\n",
      "\t layer4.0.bn2.weight\n",
      "\t layer4.0.bn2.bias\n",
      "\t layer4.0.downsample.0.weight\n",
      "\t layer4.0.downsample.1.weight\n",
      "\t layer4.0.downsample.1.bias\n",
      "\t layer4.1.conv1.weight\n",
      "\t layer4.1.bn1.weight\n",
      "\t layer4.1.bn1.bias\n",
      "\t layer4.1.conv2.weight\n",
      "\t layer4.1.bn2.weight\n",
      "\t layer4.1.bn2.bias\n",
      "\t classifier.1.weight\n",
      "\t classifier.1.bias\n"
     ]
    }
   ],
   "source": [
    "print(\"Learning parameters are:\")\n",
    "params_to_update = []\n",
    "for name,param in model.named_parameters():\n",
    "    if param.requires_grad == True:\n",
    "        params_to_update.append(param)\n",
    "        print(\"\\t\",name)"
   ],
   "metadata": {
    "collapsed": false,
    "pycharm": {
     "name": "#%%\n"
    }
   }
  },
  {
   "cell_type": "markdown",
   "source": [
    "### 5. Custom MinMax Scaler class"
   ],
   "metadata": {
    "collapsed": false,
    "pycharm": {
     "name": "#%% md\n"
    }
   }
  },
  {
   "cell_type": "code",
   "execution_count": 116,
   "outputs": [],
   "source": [
    "from sklearn.preprocessing import MinMaxScaler\n",
    "\n",
    "class CustomMinMaxScaler:\n",
    "    \"\"\"\n",
    "    This is a class for Custom MinMax Scaling for the images.\n",
    "    It is to be used as a transform\n",
    "    Parameters:\n",
    "        sample: The image.\n",
    "    \"\"\"\n",
    "    def __init__(self):\n",
    "        self.scaler = MinMaxScaler()\n",
    "\n",
    "    def __call__(self, sample):\n",
    "        image = sample\n",
    "        #print(\"THis is the image\",image.shape)\n",
    "        temp = image.reshape(-1, 3)\n",
    "        scaled = self.scaler.fit_transform(temp)\n",
    "        transformed = torch.from_numpy(scaled.reshape(image.shape).astype(np.float32))\n",
    "        #print(\"Transformed image\", transformed.shape)\n",
    "        return transformed"
   ],
   "metadata": {
    "collapsed": false,
    "pycharm": {
     "name": "#%%\n"
    }
   }
  },
  {
   "cell_type": "markdown",
   "source": [
    "### 6. Get the datasets and transform them"
   ],
   "metadata": {
    "collapsed": false,
    "pycharm": {
     "name": "#%% md\n"
    }
   }
  },
  {
   "cell_type": "code",
   "execution_count": 117,
   "outputs": [],
   "source": [
    "transform = transforms.Compose([\n",
    "    transforms.Resize((64, 64)),\n",
    "    transforms.ToTensor(),\n",
    "    CustomMinMaxScaler(),\n",
    "    ])\n",
    "\n",
    "train_dataset = torchvision.datasets.GTSRB('./data',\n",
    "                                         transform=transform,\n",
    "                                         download=True)\n",
    "test_dataset = torchvision.datasets.GTSRB('./data',\n",
    "                                        split='test',\n",
    "                                        transform=transform,\n",
    "                                        download=True)"
   ],
   "metadata": {
    "collapsed": false,
    "pycharm": {
     "name": "#%%\n"
    }
   }
  },
  {
   "cell_type": "markdown",
   "source": [
    "### 7. Loss and Optimizer"
   ],
   "metadata": {
    "collapsed": false,
    "pycharm": {
     "name": "#%% md\n"
    }
   }
  },
  {
   "cell_type": "code",
   "execution_count": 118,
   "outputs": [],
   "source": [
    "criterion = torch.nn.CrossEntropyLoss()\n",
    "optimizer = torch.optim.SGD(model.parameters(), lr = 0.001, momentum=0.9)"
   ],
   "metadata": {
    "collapsed": false,
    "pycharm": {
     "name": "#%%\n"
    }
   }
  },
  {
   "cell_type": "markdown",
   "source": [
    "### 8. Loading all the datasets into the Dataloaders"
   ],
   "metadata": {
    "collapsed": false,
    "pycharm": {
     "name": "#%% md\n"
    }
   }
  },
  {
   "cell_type": "code",
   "execution_count": 119,
   "outputs": [
    {
     "name": "stdout",
     "output_type": "stream",
     "text": [
      "Train len: 26640, Test len: 12630\n",
      "Total len: 39270\n",
      "Val len: 3915, Test len: 8715\n"
     ]
    }
   ],
   "source": [
    "train_len = len(train_dataset)\n",
    "test_len = len(test_dataset)\n",
    "print(f\"Train len: {train_len}, Test len: {test_len}\")\n",
    "total_len = train_len + test_len\n",
    "print(f\"Total len: {total_len}\")\n",
    "\n",
    "new_val_len = int(0.31 * test_len)\n",
    "new_test_len = int(test_len-new_val_len)\n",
    "\n",
    "val_dataset, test_dataset = random_split(test_dataset,[new_val_len, new_test_len])\n",
    "print(f\"Val len: {new_val_len}, Test len: {new_test_len}\")\n",
    "\n",
    "train_dataloader = DataLoader(train_dataset, shuffle=True, batch_size=50)\n",
    "val_dataloader = DataLoader(val_dataset, shuffle=False, batch_size=1)\n",
    "test_dataloader = DataLoader(test_dataset, shuffle=False, batch_size=1)"
   ],
   "metadata": {
    "collapsed": false,
    "pycharm": {
     "name": "#%%\n"
    }
   }
  },
  {
   "cell_type": "markdown",
   "source": [
    "### 9. Initialize the summary writer"
   ],
   "metadata": {
    "collapsed": false,
    "pycharm": {
     "name": "#%% md\n"
    }
   }
  },
  {
   "cell_type": "code",
   "execution_count": 120,
   "outputs": [],
   "source": [
    "writer = SummaryWriter(\"runs/task2-2\")"
   ],
   "metadata": {
    "collapsed": false,
    "pycharm": {
     "name": "#%%\n"
    }
   }
  },
  {
   "cell_type": "markdown",
   "source": [
    "### 10. Training the model"
   ],
   "metadata": {
    "collapsed": false,
    "pycharm": {
     "name": "#%% md\n"
    }
   }
  },
  {
   "cell_type": "code",
   "execution_count": 127,
   "outputs": [],
   "source": [
    "def train(model,epochs,data_loader,val_dl):\n",
    "    print(\"Begin training.\")\n",
    "    for e in range(epochs):\n",
    "        train_e_loss = 0\n",
    "        train_e_acc = 0\n",
    "        model.train()\n",
    "        for data, labels in data_loader:\n",
    "            data, labels = data.to(device), labels.to(device)\n",
    "            optimizer.zero_grad()\n",
    "            y_train_pred = model(data.float())\n",
    "            temp = torch.log_softmax(y_train_pred, dim = 1)\n",
    "            _, train_predictions = torch.max(temp, dim = 1)\n",
    "\n",
    "            train_loss = criterion(y_train_pred, labels.long())\n",
    "            train_acc = acc(y_train_pred, labels.long())\n",
    "            train_loss.backward()\n",
    "            nn.utils.clip_grad_value_(model.parameters(), clip_value=1.0)\n",
    "\n",
    "            optimizer.step()\n",
    "\n",
    "            train_e_loss += train_loss.item()\n",
    "            train_e_acc += train_acc.item()\n",
    "\n",
    "        with torch.no_grad():\n",
    "\n",
    "            val_e_loss = 0\n",
    "            val_e_acc = 0\n",
    "\n",
    "            model.eval()\n",
    "            for data, labels_val in val_dl:\n",
    "                data, labels_val = data.to(device), labels_val.to(device)\n",
    "\n",
    "                y_val_pred = model(data.float())\n",
    "                temp_val = torch.log_softmax(y_val_pred, dim = 1)\n",
    "                _, val_predictions = torch.max(temp_val, dim = 1)\n",
    "\n",
    "                val_loss = criterion(y_val_pred, labels_val.long())\n",
    "                val_acc = acc(y_val_pred, labels_val.long())\n",
    "\n",
    "                val_e_loss += val_loss.item()\n",
    "                val_e_acc += val_acc.item()\n",
    "\n",
    "        # Training plots in tensorboard\n",
    "        writer.add_scalar('Loss/Train',train_e_loss/len(data_loader),e)\n",
    "        writer.add_scalar('Accuracy/Train',train_e_acc/len(data_loader),e)\n",
    "        F1_ = metrics.f1_score(labels.cpu().numpy().tolist(), train_predictions.cpu().numpy().tolist(), average='weighted')\n",
    "        writer.add_scalar('F1/Train',F1_,e)\n",
    "\n",
    "        # Validation plots in tensorboard\n",
    "        writer.add_scalar('Loss/Val:',val_e_loss/len(val_dl),e)\n",
    "        writer.add_scalar('Accuracy/Val',val_e_acc/len(val_dl),e)\n",
    "        F1_ = metrics.f1_score(labels_val.cpu().numpy().tolist(), val_predictions.cpu().numpy().tolist(), average='weighted')\n",
    "        writer.add_scalar('F1/Val',F1_,e)\n",
    "\n",
    "        print(f'Epoch {e+1}, Train loss: {train_e_loss/len(data_loader):.4f}, Val loss: {val_e_loss/len(val_dl):.4f}, Train Acc: {train_e_acc/len(data_loader):.4f}, Val acc: {val_e_acc/len(val_dl):.4f}')\n",
    "    writer.flush()\n",
    "    return model\n",
    "\n",
    "def acc(y_pred, labels):\n",
    "    temp = torch.log_softmax(y_pred, dim=1)\n",
    "    _, predictions = torch.max(temp, dim=1)\n",
    "    correct_prediction = (predictions == labels).float()\n",
    "    acc = (correct_prediction.sum() / len(correct_prediction)) * 100\n",
    "\n",
    "    return acc"
   ],
   "metadata": {
    "collapsed": false,
    "pycharm": {
     "name": "#%%\n"
    }
   }
  },
  {
   "cell_type": "code",
   "execution_count": 126,
   "outputs": [
    {
     "name": "stdout",
     "output_type": "stream",
     "text": [
      "Begin training.\n",
      "Epoch 1, Train loss: 0.2047, Val loss: 1.0746, Train Acc: 94.4015, Val acc: 73.3078\n",
      "Epoch 2, Train loss: 0.0906, Val loss: 1.0576, Train Acc: 97.7289, Val acc: 74.4061\n",
      "Epoch 3, Train loss: 0.0510, Val loss: 1.0812, Train Acc: 98.8818, Val acc: 74.5849\n",
      "Epoch 4, Train loss: 0.0334, Val loss: 1.1170, Train Acc: 99.3537, Val acc: 74.8659\n",
      "Epoch 5, Train loss: 0.0240, Val loss: 1.1128, Train Acc: 99.5150, Val acc: 75.1724\n",
      "Epoch 6, Train loss: 0.0180, Val loss: 1.1078, Train Acc: 99.6998, Val acc: 75.7854\n",
      "Epoch 7, Train loss: 0.0137, Val loss: 1.1018, Train Acc: 99.7936, Val acc: 76.2197\n",
      "Epoch 8, Train loss: 0.0125, Val loss: 1.1092, Train Acc: 99.8311, Val acc: 75.7854\n",
      "Epoch 9, Train loss: 0.0109, Val loss: 1.1098, Train Acc: 99.8574, Val acc: 76.6794\n",
      "Epoch 10, Train loss: 0.0105, Val loss: 1.1125, Train Acc: 99.8452, Val acc: 76.4751\n",
      "Epoch 11, Train loss: 0.0089, Val loss: 1.1569, Train Acc: 99.8762, Val acc: 76.2963\n",
      "Epoch 12, Train loss: 0.0080, Val loss: 1.0901, Train Acc: 99.8715, Val acc: 76.9860\n",
      "Epoch 13, Train loss: 0.0061, Val loss: 1.1134, Train Acc: 99.9437, Val acc: 76.8838\n",
      "Epoch 14, Train loss: 0.0054, Val loss: 1.1097, Train Acc: 99.9512, Val acc: 77.0881\n",
      "Epoch 15, Train loss: 0.0055, Val loss: 1.1045, Train Acc: 99.9437, Val acc: 77.2414\n",
      "Epoch 16, Train loss: 0.0046, Val loss: 1.1196, Train Acc: 99.9587, Val acc: 77.3436\n",
      "Epoch 17, Train loss: 0.0043, Val loss: 1.1106, Train Acc: 99.9512, Val acc: 77.0370\n",
      "Epoch 18, Train loss: 0.0044, Val loss: 1.1319, Train Acc: 99.9362, Val acc: 77.0370\n",
      "Epoch 19, Train loss: 0.0041, Val loss: 1.0980, Train Acc: 99.9362, Val acc: 77.4968\n",
      "Epoch 20, Train loss: 0.0035, Val loss: 1.0981, Train Acc: 99.9775, Val acc: 77.6501\n"
     ]
    }
   ],
   "source": [
    "model = train(model=model,epochs=n_epochs,data_loader=train_dataloader,val_dl=val_dataloader)"
   ],
   "metadata": {
    "collapsed": false,
    "pycharm": {
     "name": "#%%\n"
    }
   }
  },
  {
   "cell_type": "markdown",
   "source": [
    "# (iv) Conclusion and possible improvements"
   ],
   "metadata": {
    "collapsed": false,
    "pycharm": {
     "name": "#%% md\n"
    }
   }
  },
  {
   "cell_type": "markdown",
   "source": [
    "All the graphs/plots can be found in the tensorboard,\n",
    "\n",
    "As we can see that the models are overfitting even after using reguralisation techniques.\n",
    "All the evaluation metrics are plotted in the tensorboard"
   ],
   "metadata": {
    "collapsed": false,
    "pycharm": {
     "name": "#%% md\n"
    }
   }
  },
  {
   "cell_type": "code",
   "execution_count": null,
   "outputs": [],
   "source": [],
   "metadata": {
    "collapsed": false,
    "pycharm": {
     "name": "#%%\n"
    }
   }
  }
 ],
 "metadata": {
  "kernelspec": {
   "display_name": "Python 3",
   "language": "python",
   "name": "python3"
  },
  "language_info": {
   "codemirror_mode": {
    "name": "ipython",
    "version": 2
   },
   "file_extension": ".py",
   "mimetype": "text/x-python",
   "name": "python",
   "nbconvert_exporter": "python",
   "pygments_lexer": "ipython2",
   "version": "2.7.6"
  }
 },
 "nbformat": 4,
 "nbformat_minor": 0
}